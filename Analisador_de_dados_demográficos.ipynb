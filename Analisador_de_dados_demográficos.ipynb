{
  "nbformat": 4,
  "nbformat_minor": 0,
  "metadata": {
    "colab": {
      "provenance": [],
      "mount_file_id": "1fAeTdQw3ZSnNf-ThWOu9xfi6o0gDbgn0",
      "authorship_tag": "ABX9TyMrTKhAk/6/4Aq9eJoT3Kgd"
    },
    "kernelspec": {
      "name": "python3",
      "display_name": "Python 3"
    },
    "language_info": {
      "name": "python"
    }
  },
  "cells": [
    {
      "cell_type": "code",
      "execution_count": 2,
      "metadata": {
        "colab": {
          "base_uri": "https://localhost:8080/"
        },
        "id": "zA79sX8cbeSn",
        "outputId": "b42f1eef-a2fa-47b5-8cae-523d6a61d8ed"
      },
      "outputs": [
        {
          "output_type": "execute_result",
          "data": {
            "text/plain": [
              "White                 27816\n",
              "Black                  3124\n",
              "Asian-Pac-Islander     1039\n",
              "Amer-Indian-Eskimo      311\n",
              "Other                   271\n",
              "Name: race, dtype: int64"
            ]
          },
          "metadata": {},
          "execution_count": 2
        }
      ],
      "source": [
        "import pandas as pd\n",
        "\n",
        "\n",
        "# Read data from file\n",
        "df = pd.read_csv('/content/drive/MyDrive/Datasets de projetos/adult.data.csv')\n",
        "\n",
        "# Quantas pessoas de cada raça estão representadas neste conjunto de dados? \n",
        "# Esta deve ser uma série Pandas com nomes de raça como rótulos de índice. ( racecoluna)\n",
        "race_count = df['race'].value_counts()\n",
        "race_count"
      ]
    },
    {
      "cell_type": "code",
      "source": [
        "# Qual é a idade média dos homens?\n",
        "data_men = df[df['sex'] == 'Male'] # um dataframe so com os dados de homens\n",
        "average_age_men = data_men['age'].mean() # seleciona a coluna idade e faz a média\n",
        "average_age_men"
      ],
      "metadata": {
        "colab": {
          "base_uri": "https://localhost:8080/"
        },
        "id": "R8z_BUa_cEBg",
        "outputId": "ad70860e-76e1-4799-9bfa-29937a27ed05"
      },
      "execution_count": 4,
      "outputs": [
        {
          "output_type": "execute_result",
          "data": {
            "text/plain": [
              "39.43354749885268"
            ]
          },
          "metadata": {},
          "execution_count": 4
        }
      ]
    },
    {
      "cell_type": "code",
      "source": [
        " # Qual é a porcentagem de pessoas que têm um diploma de bacharel?\n",
        "df_bachelors = df[df['education'] == 'Bachelors'] # dataframe so de bacharels\n",
        "percentage_bachelors = (df_bachelors.shape[0] / df.shape[0]) * 100 # quantas pessoas sao bacharel dividido pelo total\n",
        "percentage_bachelors"
      ],
      "metadata": {
        "colab": {
          "base_uri": "https://localhost:8080/"
        },
        "id": "WBDvJvrpd5N8",
        "outputId": "0d9cbde6-eb52-4482-a587-fcc434afe95c"
      },
      "execution_count": 5,
      "outputs": [
        {
          "output_type": "execute_result",
          "data": {
            "text/plain": [
              "16.44605509658794"
            ]
          },
          "metadata": {},
          "execution_count": 5
        }
      ]
    },
    {
      "cell_type": "code",
      "source": [
        "# Que porcentagem de pessoas com educação avançada ( Bachelors, Mastersou, Doctorate) ganham mais de 50 mil?\n",
        "\n",
        "# selecionando as colunas de titulos\n",
        "df_edu = df[df['education'].isin(['Bachelors', 'Mastersou', 'Doctorate'])]\n",
        "# vendo quantos ganham mais que 50 k\n",
        "data_50k = df_edu[df_edu['salary'] == '>50K']\n",
        "percentage = (data_50k.shape[0] / df.shape[0]) * 100\n",
        "percentage"
      ],
      "metadata": {
        "colab": {
          "base_uri": "https://localhost:8080/"
        },
        "id": "JqDjzy4egNof",
        "outputId": "115ae66a-3976-4934-93b8-2e5980b77458"
      },
      "execution_count": 6,
      "outputs": [
        {
          "output_type": "execute_result",
          "data": {
            "text/plain": [
              "7.760818156690519"
            ]
          },
          "metadata": {},
          "execution_count": 6
        }
      ]
    },
    {
      "cell_type": "code",
      "source": [
        "# Que porcentagem de pessoas sem educação avançada ganha mais de 50 mil?\n",
        "df_50k_all = df[df['salary'] == '>50K']\n",
        "percentage_50k = (df_50k_all.shape[0] / df.shape[0]) * 100\n",
        "percetage_total = percentage_50k - percentage\n",
        "percetage_total"
      ],
      "metadata": {
        "colab": {
          "base_uri": "https://localhost:8080/"
        },
        "id": "xU9uqY82k4ms",
        "outputId": "fe8468a2-6ce1-4df7-8348-412ba323f427"
      },
      "execution_count": 7,
      "outputs": [
        {
          "output_type": "execute_result",
          "data": {
            "text/plain": [
              "16.32013758791192"
            ]
          },
          "metadata": {},
          "execution_count": 7
        }
      ]
    },
    {
      "cell_type": "code",
      "source": [
        "# Qual é o número mínimo de horas que uma pessoa trabalha por semana?\n",
        "df_hours = df[df['hours-per-week'] == df['hours-per-week'].min()]"
      ],
      "metadata": {
        "id": "lT96slu1mXrk"
      },
      "execution_count": 8,
      "outputs": []
    },
    {
      "cell_type": "code",
      "source": [
        "# Que porcentagem das pessoas que trabalham o número mínimo de horas por semana tem um salário superior a 50 mil?\n",
        "df_hours_50k = df_hours[df_hours['salary'] == '>50k']\n",
        "percetage_hours_min = len(df_hours_50k) / len (df_hours) * 100\n",
        "percetage_hours_min"
      ],
      "metadata": {
        "colab": {
          "base_uri": "https://localhost:8080/"
        },
        "id": "MdT69PyPmx1Y",
        "outputId": "cbd45cec-f741-42ca-f310-4b818e8480a6"
      },
      "execution_count": 9,
      "outputs": [
        {
          "output_type": "execute_result",
          "data": {
            "text/plain": [
              "0.0"
            ]
          },
          "metadata": {},
          "execution_count": 9
        }
      ]
    },
    {
      "cell_type": "code",
      "source": [
        "# Qual país tem a maior porcentagem de pessoas que ganham mais de 50 mil e qual é essa porcentagem?\n",
        "df_50k_all = df[df['salary'] == '>50K']\n",
        "count_country = df_50k_all.groupby(by = 'native-country')['native-country'].count()\n",
        "perce_country = count_country / len(df_50k_all) * 100\n",
        "country_max = perce_country.idxmax()\n",
        "max_perce = perce_country.max()"
      ],
      "metadata": {
        "id": "SGU8lbtTqZQY"
      },
      "execution_count": 13,
      "outputs": []
    },
    {
      "cell_type": "code",
      "source": [
        "# Identifique a ocupação mais popular para quem ganha mais de 50 mil na Índia.\n",
        "df_india = df[df['native-country'] == 'India']\n",
        "df_india_50k = df_india[df_india['salary'] == '>50k']\n",
        "count_occupation = df_india_50k.groupby(by ='occupation')['occupation'].count()\n",
        "most_pop_occupation = count_occupation.idxmax()"
      ],
      "metadata": {
        "colab": {
          "base_uri": "https://localhost:8080/"
        },
        "id": "99R7wkI9OX9i",
        "outputId": "a5931513-c879-4f3c-8518-b58914f5b48a"
      },
      "execution_count": 23,
      "outputs": [
        {
          "output_type": "execute_result",
          "data": {
            "text/plain": [
              "Series([], Name: occupation, dtype: int64)"
            ]
          },
          "metadata": {},
          "execution_count": 23
        }
      ]
    }
  ]
}